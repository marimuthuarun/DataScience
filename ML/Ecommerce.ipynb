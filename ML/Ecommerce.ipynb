import pandas as pd
import numpy as np
import matplotlib.pyplot as plt
%matplotlib inline
import seaborn as sns

df = pd.read_csv('Ecommerce_Customers')
df.head(50)

df.info()

df.corr()

df.describe()

sns.distplot(df['Yearly Amount Spent'])

df.columns

X = df.drop(['Email','Address','Avatar','Yearly Amount Spent'],axis=1)
y = df['Yearly Amount Spent']

from sklearn.model_selection import train_test_split

X_train, X_test, y_train, y_test = train_test_split(
     X, y, test_size=0.4, random_state=101)

X_train.shape

X_test.shape

from sklearn.preprocessing import StandardScaler

scx = StandardScaler()

X_train_std = scx.fit_transform(X_train)

X_train_std

X_test_std = scx.transform(X_test)

from sklearn.linear_model import LinearRegression, Lasso, Ridge

lr = LinearRegression()

lr.fit(X_train,y_train)

lr.coef_

lr.intercept_

predictions = lr.predict(X_test)

from sklearn.metrics import mean_absolute_error, mean_squared_error, r2_score

print(mean_absolute_error(y_test,predictions))
print(mean_squared_error(y_test,predictions))
print(np.sqrt(mean_squared_error(y_test,predictions)))
print(r2_score(y_test,predictions))

for i in [10,100, 1000, 10000, 100000, 1000000, 10000000]:
    ridge = Ridge(alpha=i)
    ridge.fit(X_train_std, y_train)
    pred_ridge = ridge.predict(X_test_std)
    print("Lambda is "+str(i)+" ", ridge.coef_)
    print(mean_absolute_error(y_test,pred_ridge))
    print(r2_score(y_test,pred_ridge))

for i in [10,100, 1000, 10000, 100000, 1000000, 10000000]:
    lasso = Lasso(alpha=i)
    lasso.fit(X_train_std, y_train)
    pred_lasso = lasso.predict(X_test_std)
    print("Lambda is "+str(i)+" ", lasso.coef_)
    print(mean_absolute_error(y_test,pred_lasso))
    print(r2_score(y_test,pred_lasso))
